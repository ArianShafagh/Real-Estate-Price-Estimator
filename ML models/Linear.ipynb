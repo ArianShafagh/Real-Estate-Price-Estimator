{
 "cells": [
  {
   "cell_type": "code",
   "execution_count": null,
   "id": "335d6e05",
   "metadata": {},
   "outputs": [],
   "source": [
    "import pandas as pd\n",
    "import numpy as np\n",
    "import matplotlib.pyplot as plt"
   ]
  },
  {
   "cell_type": "code",
   "execution_count": null,
   "id": "bd8a2718",
   "metadata": {},
   "outputs": [],
   "source": [
    "db = pd.read_csv('C:\\\\Users\\\\DOR CO\\\\Desktop\\\\Real state ML\\\\Real-Estate-Price-Estimator\\\\gateaway\\\\properties.csv')\n",
    "x = db.drop(columns=['price'])\n",
    "y = db['price']"
   ]
  },
  {
   "cell_type": "code",
   "execution_count": null,
   "id": "41841de3",
   "metadata": {},
   "outputs": [],
   "source": [
    "import category_encoders as ce\n",
    "from sklearn.preprocessing import OneHotEncoder, StandardScaler\n",
    "from sklearn.compose import ColumnTransformer\n",
    "\n",
    "preprocessor = ColumnTransformer(transformers=[\n",
    "    ('target', ce.TargetEncoder(cols=[\"Province\", \"City\"]), [\"Province\", \"City\"]),\n",
    "    ('onehot', OneHotEncoder(sparse_output=False, handle_unknown='ignore'), [\"property_type\"]),\n",
    "    ('scaler', StandardScaler(), ['property_quality','rooms','living_area','bathrooms','garden_sqm',\n",
    "                                  'terrace_sqm','land_area','distance_from_airport','Skiresort_distance',\n",
    "                                  'terrace','garden','pool','car_box'])\n",
    "], remainder='drop')"
   ]
  },
  {
   "cell_type": "code",
   "execution_count": null,
   "id": "de238132",
   "metadata": {},
   "outputs": [],
   "source": [
    "from xgboost import XGBRegressor\n",
    "from sklearn.linear_model import LinearRegression\n",
    "from sklearn.pipeline import Pipeline\n",
    "pipe = Pipeline(steps=[\n",
    "    ('prep', preprocessor),\n",
    "    ('model', XGBRegressor(booster='gblinear',random_state=42))\n",
    "])"
   ]
  },
  {
   "cell_type": "code",
   "execution_count": null,
   "id": "447f70dd",
   "metadata": {},
   "outputs": [],
   "source": [
    "from sklearn.model_selection import train_test_split\n",
    "x_train, x_test, y_train, y_test = train_test_split(x, y, test_size=0.2, random_state=42)"
   ]
  },
  {
   "cell_type": "code",
   "execution_count": null,
   "id": "7500e710",
   "metadata": {},
   "outputs": [],
   "source": [
    "\n",
    "from sklearn.model_selection import GridSearchCV\n",
    "param_grid = {\n",
    "    'model__booster': ['gblinear'],\n",
    "    'model__n_estimators': [300, 700],  # fewer values\n",
    "    'model__eta': [0.05, 0.1],          # fewer learning rates\n",
    "    'model__reg_alpha': [0.0, 0.1, 1.0],\n",
    "    'model__reg_lambda': [0.1, 1.0, 10.0],\n",
    "    'model__updater': ['coord_descent'],\n",
    "    'model__feature_selector': ['thrifty'],  # pick one\n",
    "    'model__top_k': [100, 250]              # fewer options\n",
    "}\n",
    "grid = GridSearchCV(\n",
    "    estimator=pipe,\n",
    "    param_grid=param_grid,\n",
    "    scoring='neg_root_mean_squared_error',\n",
    "    cv=3,\n",
    "    n_jobs=-1,\n",
    "    verbose=2\n",
    ")"
   ]
  },
  {
   "cell_type": "code",
   "execution_count": null,
   "id": "95b0e448",
   "metadata": {},
   "outputs": [],
   "source": [
    "grid.fit(x_train, y_train)\n",
    "best_model = grid.best_estimator_\n",
    "y_pred = best_model.predict(x_test)"
   ]
  },
  {
   "cell_type": "code",
   "execution_count": null,
   "id": "9ddeb92e",
   "metadata": {},
   "outputs": [],
   "source": [
    "np.set_printoptions(precision=2)\n",
    "print(np.concatenate((y_pred.reshape(len(y_pred),1), y_test.values.reshape(len(y_test),1)),1))"
   ]
  },
  {
   "cell_type": "code",
   "execution_count": null,
   "id": "455c3819",
   "metadata": {},
   "outputs": [],
   "source": [
    "comp = pd.DataFrame({'Actual': y_test, 'Predicted': y_pred}, index=y_test.index)\n",
    "comp['Error'] = comp['Predicted'] - comp['Actual']\n",
    "comp['AbsPctError_%'] = (comp['Error'].abs() / comp['Actual'].replace(0, np.nan)) * 100\n",
    "print(comp.head(10))"
   ]
  },
  {
   "cell_type": "code",
   "execution_count": null,
   "id": "1f1134ed",
   "metadata": {},
   "outputs": [],
   "source": [
    "from sklearn.metrics import r2_score\n",
    "print(f\"R²: {r2_score(y_test, y_pred):.4f}\")"
   ]
  }
 ],
 "metadata": {
  "kernelspec": {
   "display_name": "Python 3",
   "language": "python",
   "name": "python3"
  },
  "language_info": {
   "codemirror_mode": {
    "name": "ipython",
    "version": 3
   },
   "file_extension": ".py",
   "mimetype": "text/x-python",
   "name": "python",
   "nbconvert_exporter": "python",
   "pygments_lexer": "ipython3",
   "version": "3.13.0"
  }
 },
 "nbformat": 4,
 "nbformat_minor": 5
}
