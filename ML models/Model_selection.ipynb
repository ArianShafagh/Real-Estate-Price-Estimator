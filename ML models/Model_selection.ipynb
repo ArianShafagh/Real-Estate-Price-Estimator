{
 "cells": [
  {
   "cell_type": "code",
   "execution_count": 1,
   "id": "078e5cb0",
   "metadata": {},
   "outputs": [],
   "source": [
    "# %pip install pandas\n",
    "# %pip install matplotlib\n",
    "# %pip install scikit-learn\n",
    "# %pip install category_encoders\n",
    "# %pip install xgboost"
   ]
  },
  {
   "cell_type": "code",
   "execution_count": 2,
   "id": "dc0fc031",
   "metadata": {},
   "outputs": [],
   "source": [
    "import pandas as pd\n",
    "import matplotlib.pyplot as plt\n",
    "import numpy as np"
   ]
  },
  {
   "cell_type": "code",
   "execution_count": 3,
   "id": "75dea01e",
   "metadata": {},
   "outputs": [],
   "source": [
    "db = pd.read_csv('C:\\\\Users\\\\DOR CO\\\\Desktop\\\\Real state ML\\\\Real-Estate-Price-Estimator\\\\gateaway\\\\properties.csv')\n",
    "x = db.drop(columns=['price'])\n",
    "y = db['price']"
   ]
  },
  {
   "cell_type": "code",
   "execution_count": 4,
   "id": "0e72e44b",
   "metadata": {},
   "outputs": [],
   "source": [
    "import category_encoders as ce\n",
    "from sklearn.preprocessing import OneHotEncoder, StandardScaler\n",
    "from sklearn.compose import ColumnTransformer\n",
    "\n",
    "preprocessor = ColumnTransformer(transformers=[\n",
    "    ('target', ce.TargetEncoder(cols=[\"Province\", \"City\"]), [\"Province\", \"City\"]),\n",
    "    ('onehot', OneHotEncoder(sparse_output=False, handle_unknown='ignore'), [\"property_type\"]),\n",
    "    ('scaler', StandardScaler(), ['property_quality','rooms','living_area','bathrooms','garden_sqm',\n",
    "                                  'terrace_sqm','land_area','distance_from_airport','Skiresort_distance',\n",
    "                                  'terrace','garden','pool','car_box'])\n",
    "], remainder='drop')\n"
   ]
  },
  {
   "cell_type": "code",
   "execution_count": 5,
   "id": "3b116fd6",
   "metadata": {},
   "outputs": [],
   "source": [
    "from sklearn.linear_model import LinearRegression\n",
    "from sklearn.preprocessing import PolynomialFeatures\n",
    "from sklearn.svm import SVR\n",
    "from sklearn.tree import DecisionTreeRegressor\n",
    "from sklearn.ensemble import RandomForestRegressor, GradientBoostingRegressor\n",
    "from xgboost import XGBRegressor\n",
    "from sklearn.pipeline import Pipeline\n",
    "\n",
    "models = {\n",
    "    \"Linear\": LinearRegression(),\n",
    "    \"Polynomial (deg=2)\": Pipeline([(\"poly\", PolynomialFeatures(degree=2)), (\"lin\", LinearRegression())]),\n",
    "    \"SVR\": SVR(kernel='rbf'),\n",
    "    \"DecisionTree\": DecisionTreeRegressor(random_state=0),\n",
    "    \"RandomForest\": RandomForestRegressor(n_estimators=200, random_state=0),\n",
    "    \"GradientBoosting\": GradientBoostingRegressor(n_estimators=200, random_state=0),\n",
    "    \"XGBoost\": XGBRegressor(n_estimators=500, learning_rate=0.05, max_depth=6, random_state=0)\n",
    "}"
   ]
  },
  {
   "cell_type": "code",
   "execution_count": null,
   "id": "7d16847a",
   "metadata": {},
   "outputs": [
    {
     "name": "stdout",
     "output_type": "stream",
     "text": [
      "Best model: Linear with 100.00%\n"
     ]
    }
   ],
   "source": [
    "from sklearn.model_selection import cross_val_score,KFold\n",
    "from sklearn.metrics import r2_score\n",
    "r_scores = {}\n",
    "kf = KFold(n_splits=5, shuffle=True, random_state=0)\n",
    "for name, model in models.items():\n",
    "    pipeline = Pipeline([\n",
    "        ('preprocessor', preprocessor),\n",
    "        ('model', model)\n",
    "    ])\n",
    "    neg_mse_scores = cross_val_score(pipeline, x, y, cv=kf, scoring='neg_mean_squared_error')\n",
    "    r_scores[name] = r2_score(y_test, y_pred)\n",
    "best_r2 = max(r_scores.values())\n",
    "percentages = {model: (best_r2 / r2) * 100 for model, r2 in r_scores.items()}\n",
    "best_model = max(percentages, key=percentages.get)\n",
    "print(f\"Best model: {best_model} with {percentages[best_model]:.2f}%\")"
   ]
  },
  {
   "cell_type": "code",
   "execution_count": null,
   "id": "493cf5ab",
   "metadata": {},
   "outputs": [
    {
     "data": {
      "text/plain": [
       "{'Linear': np.float64(4134485.6906023575),\n",
       " 'Polynomial (deg=2)': np.float64(4341165.763539091),\n",
       " 'SVR': np.float64(4281470.948206601),\n",
       " 'DecisionTree': np.float64(5232475.358623042),\n",
       " 'RandomForest': np.float64(4368288.264359077),\n",
       " 'GradientBoosting': np.float64(4683761.172422262),\n",
       " 'XGBoost': np.float64(4652310.38370233)}"
      ]
     },
     "execution_count": 7,
     "metadata": {},
     "output_type": "execute_result"
    }
   ],
   "source": []
  }
 ],
 "metadata": {
  "kernelspec": {
   "display_name": "Python 3",
   "language": "python",
   "name": "python3"
  },
  "language_info": {
   "codemirror_mode": {
    "name": "ipython",
    "version": 3
   },
   "file_extension": ".py",
   "mimetype": "text/x-python",
   "name": "python",
   "nbconvert_exporter": "python",
   "pygments_lexer": "ipython3",
   "version": "3.13.0"
  }
 },
 "nbformat": 4,
 "nbformat_minor": 5
}
