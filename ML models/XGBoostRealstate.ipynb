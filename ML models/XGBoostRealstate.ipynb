{
  "cells": [
    {
      "cell_type": "code",
      "execution_count": 1,
      "metadata": {
        "colab": {
          "base_uri": "https://localhost:8080/"
        },
        "id": "eQfamtQoZP-K",
        "outputId": "4bae749a-6868-4b0b-b2ae-86970d1cd1c0"
      },
      "outputs": [],
      "source": [
        "# %pip install category_encoders\n",
        "# %pip install xgboost"
      ]
    },
    {
      "cell_type": "code",
      "execution_count": 2,
      "metadata": {
        "id": "8s2NAFckYS7-"
      },
      "outputs": [],
      "source": [
        "import pandas as pd\n",
        "import numpy as np\n",
        "import joblib\n"
      ]
    },
    {
      "cell_type": "code",
      "execution_count": 3,
      "metadata": {
        "id": "4FKS3jxoYwAk"
      },
      "outputs": [],
      "source": [
        "db = pd.read_csv('C:\\\\Users\\\\DOR CO\\\\Desktop\\\\Real state ML\\\\Real-Estate-Price-Estimator\\\\DataSet\\\\DataCleaned.csv')\n",
        "x = db.drop(columns=['price'])\n",
        "y = db['price']"
      ]
    },
    {
      "cell_type": "code",
      "execution_count": 4,
      "metadata": {
        "id": "cG0jn1R7Ywma"
      },
      "outputs": [],
      "source": [
        "from sklearn.preprocessing import StandardScaler\n",
        "from sklearn.compose import ColumnTransformer\n",
        "\n",
        "preprocessor = ColumnTransformer(transformers=[\n",
        "    ('scaler', StandardScaler(), ['property_quality','rooms','living_area','bathrooms','garden_sqm',\n",
        "                                  'terrace_sqm','land_area','distance_from_airport','Skiresort_distance',\n",
        "                                  'terrace','garden','pool','car_box','land','property_type','city_median','City','province_median','Province'])\n",
        "], remainder='drop')"
      ]
    },
    {
      "cell_type": "code",
      "execution_count": 5,
      "metadata": {
        "id": "rU2cG1TtYwv_"
      },
      "outputs": [],
      "source": [
        "from xgboost import XGBRegressor\n",
        "from sklearn.pipeline import Pipeline\n",
        "pipe = Pipeline(steps=[\n",
        "    ('prep', preprocessor),\n",
        "    ('model', XGBRegressor(\n",
        "        booster='gbtree',\n",
        "        tree_method='hist',\n",
        "        random_state=42,\n",
        "        n_jobs=-1,\n",
        "        objective='reg:squarederror',\n",
        "        eval_metric='rmse'\n",
        "    ))\n",
        "])\n",
        "\n"
      ]
    },
    {
      "cell_type": "code",
      "execution_count": 6,
      "metadata": {
        "id": "JkE8FhMJYw7M"
      },
      "outputs": [],
      "source": [
        "from sklearn.model_selection import train_test_split\n",
        "x_train, x_test, y_train, y_test = train_test_split(x, y, test_size=0.2, random_state=42)"
      ]
    },
    {
      "cell_type": "code",
      "execution_count": 7,
      "metadata": {
        "id": "qfs4CvYTYxDc"
      },
      "outputs": [],
      "source": [
        "from sklearn.compose import TransformedTargetRegressor\n",
        "from sklearn.model_selection import GridSearchCV\n",
        "param_grid = {\n",
        "    'model__n_estimators': [500, 1000],\n",
        "    'model__learning_rate': [0.01, 0.05, 0.1],\n",
        "    'model__max_depth': [4, 6, 8],\n",
        "    'model__min_child_weight': [1, 5, 10],\n",
        "    'model__subsample': [0.7, 0.9, 1.0],\n",
        "    'model__colsample_bytree': [0.7, 0.8, 1.0]\n",
        "}\n",
        "\n",
        "reg = TransformedTargetRegressor(\n",
        "    regressor=pipe,\n",
        "    func=np.log1p,\n",
        "    inverse_func=np.expm1\n",
        ")\n",
        "\n",
        "grid = GridSearchCV(\n",
        "    estimator=reg,\n",
        "    param_grid={k.replace('model__', 'regressor__model__'): v for k, v in param_grid.items()},\n",
        "    scoring='neg_root_mean_squared_error',\n",
        "    cv=3,\n",
        "    n_jobs=-1,\n",
        "    verbose=2\n",
        ")\n"
      ]
    },
    {
      "cell_type": "code",
      "execution_count": 8,
      "metadata": {
        "colab": {
          "base_uri": "https://localhost:8080/"
        },
        "id": "srnrzTXEYxN_",
        "outputId": "0b98fe0d-8790-4869-ee1b-4d859e0f6fca"
      },
      "outputs": [
        {
          "name": "stdout",
          "output_type": "stream",
          "text": [
            "Fitting 3 folds for each of 486 candidates, totalling 1458 fits\n"
          ]
        }
      ],
      "source": [
        "grid.fit(x_train, y_train)\n",
        "best_model = grid.best_estimator_\n",
        "y_pred = best_model.predict(x_test)"
      ]
    },
    {
      "cell_type": "code",
      "execution_count": 9,
      "metadata": {
        "colab": {
          "base_uri": "https://localhost:8080/"
        },
        "id": "L6hgqc2EYxWx",
        "outputId": "dacade01-1604-4c21-c0ce-178d9c2a6a1e"
      },
      "outputs": [
        {
          "name": "stdout",
          "output_type": "stream",
          "text": [
            "[[1005516.12  780000.  ]\n",
            " [ 883647.31  480000.  ]\n",
            " [ 119808.45   83000.  ]\n",
            " ...\n",
            " [ 359739.59  320000.  ]\n",
            " [  55584.96   33000.  ]\n",
            " [ 124352.38  300000.  ]]\n"
          ]
        }
      ],
      "source": [
        "np.set_printoptions(precision=2)\n",
        "print(np.concatenate((y_pred.reshape(len(y_pred),1), y_test.values.reshape(len(y_test),1)),1))"
      ]
    },
    {
      "cell_type": "code",
      "execution_count": 10,
      "metadata": {
        "colab": {
          "base_uri": "https://localhost:8080/"
        },
        "id": "I9gSzp_EYxfb",
        "outputId": "7d98e59c-5553-4957-cef7-bb48d360a783"
      },
      "outputs": [
        {
          "name": "stdout",
          "output_type": "stream",
          "text": [
            "        Actual     Predicted         Error  AbsPctError_%\n",
            "8413    780000  1.005516e+06  2.255161e+05      28.912324\n",
            "15648   480000  8.836473e+05  4.036473e+05      84.093190\n",
            "5194     83000  1.198085e+05  3.680845e+04      44.347534\n",
            "7534    395000  5.871779e+05  1.921779e+05      48.652642\n",
            "16106   740000  7.783062e+05  3.830619e+04       5.176512\n",
            "13897   310000  5.586713e+05  2.486713e+05      80.216552\n",
            "3021    550000  2.625661e+05 -2.874339e+05      52.260710\n",
            "1962    980000  6.711145e+05 -3.088855e+05      31.518929\n",
            "6330    125000  5.991307e+04 -6.508693e+04      52.069547\n",
            "4580   2358600  1.078047e+06 -1.280553e+06      54.292944\n"
          ]
        }
      ],
      "source": [
        "comp = pd.DataFrame({'Actual': y_test, 'Predicted': y_pred}, index=y_test.index)\n",
        "comp['Error'] = comp['Predicted'] - comp['Actual']\n",
        "comp['AbsPctError_%'] = (comp['Error'].abs() / comp['Actual'].replace(0, np.nan)) * 100\n",
        "print(comp.head(10))"
      ]
    },
    {
      "cell_type": "code",
      "execution_count": 11,
      "metadata": {
        "colab": {
          "base_uri": "https://localhost:8080/"
        },
        "id": "wpGEFJjyYxs3",
        "outputId": "ea9beb4b-9523-4f7d-dbc8-b672936a883f"
      },
      "outputs": [
        {
          "name": "stdout",
          "output_type": "stream",
          "text": [
            "R²: 0.4525\n"
          ]
        }
      ],
      "source": [
        "from sklearn.metrics import r2_score\n",
        "print(f\"R²: {r2_score(y_test, y_pred):.4f}\")"
      ]
    },
    {
      "cell_type": "code",
      "execution_count": 12,
      "metadata": {
        "colab": {
          "base_uri": "https://localhost:8080/"
        },
        "id": "6kQtJYOv0aPh",
        "outputId": "161706b0-64f0-483e-8ac7-478d1d51dc98"
      },
      "outputs": [
        {
          "name": "stdout",
          "output_type": "stream",
          "text": [
            "Baseline R² (train mean): -1.747626554582382e-08\n",
            "Train R²: 0.759198784828186\n",
            "Test  R²: 0.4524901509284973\n"
          ]
        }
      ],
      "source": [
        "from sklearn.metrics import r2_score\n",
        "import numpy as np\n",
        "\n",
        "# 1) Baseline (predict train mean on test)\n",
        "y_base = np.full_like(y_test, fill_value=y_train.mean(), dtype=float)\n",
        "print(\"Baseline R² (train mean):\", r2_score(y_test, y_base))\n",
        "\n",
        "# 2) Training-set R² for your best_model\n",
        "y_pred_train = best_model.predict(x_train)\n",
        "print(\"Train R²:\", r2_score(y_train, y_pred_train))\n",
        "print(\"Test  R²:\", r2_score(y_test,  best_model.predict(x_test)))\n"
      ]
    },
    {
      "cell_type": "code",
      "execution_count": 13,
      "metadata": {},
      "outputs": [],
      "source": [
        "\n",
        "# joblib.dump(best_model, \"real_estate_model.pkl\")\n",
        "# print(\"Model saved successfully!\")"
      ]
    },
    {
      "cell_type": "code",
      "execution_count": 14,
      "metadata": {},
      "outputs": [],
      "source": [
        "\n",
        "# loaded_model = joblib.load(\"real_estate_model.pkl\")\n",
        "\n",
        "# # Example: Predict with new input\n",
        "# sample_input = pd.DataFrame([{\n",
        "#     \"Province\": \"Lombardy\",\n",
        "#     \"City\": \"Milan\",\n",
        "#     \"property_quality\": 8,\n",
        "#     \"rooms\": 3,\n",
        "#     \"living_area\": 120,\n",
        "#     \"bathrooms\": 2,\n",
        "#     \"garden_sqm\": 30,\n",
        "#     \"terrace_sqm\": 15,\n",
        "#     \"land_area\": 0,\n",
        "#     \"distance_from_airport\": 20,\n",
        "#     \"Skiresort_distance\": 150,\n",
        "#     \"terrace\": 1,\n",
        "#     \"garden\": 1,\n",
        "#     \"pool\": 0,\n",
        "#     \"car_box\": 1,\n",
        "#     \"land\": 0,\n",
        "#     \"property_type\": 1\n",
        "# }])\n",
        "\n",
        "# predicted_price = loaded_model.predict(sample_input)\n",
        "# print(\"Predicted Price:\", predicted_price[0])\n"
      ]
    }
  ],
  "metadata": {
    "colab": {
      "provenance": []
    },
    "kernelspec": {
      "display_name": "Python 3",
      "name": "python3"
    },
    "language_info": {
      "codemirror_mode": {
        "name": "ipython",
        "version": 3
      },
      "file_extension": ".py",
      "mimetype": "text/x-python",
      "name": "python",
      "nbconvert_exporter": "python",
      "pygments_lexer": "ipython3",
      "version": "3.13.0"
    }
  },
  "nbformat": 4,
  "nbformat_minor": 0
}
