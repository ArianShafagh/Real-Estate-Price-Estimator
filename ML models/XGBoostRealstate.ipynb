{
  "cells": [
    {
      "cell_type": "code",
      "execution_count": null,
      "metadata": {
        "colab": {
          "base_uri": "https://localhost:8080/"
        },
        "id": "eQfamtQoZP-K",
        "outputId": "4bae749a-6868-4b0b-b2ae-86970d1cd1c0"
      },
      "outputs": [],
      "source": [
        "# %pip install category_encoders\n",
        "# %pip install xgboost"
      ]
    },
    {
      "cell_type": "code",
      "execution_count": null,
      "metadata": {
        "id": "8s2NAFckYS7-"
      },
      "outputs": [],
      "source": [
        "import pandas as pd\n",
        "import numpy as np\n",
        "import joblib\n"
      ]
    },
    {
      "cell_type": "code",
      "execution_count": null,
      "metadata": {
        "id": "4FKS3jxoYwAk"
      },
      "outputs": [],
      "source": [
        "db = pd.read_csv('C:\\\\Users\\\\DOR CO\\\\Desktop\\\\Real state ML\\\\Real-Estate-Price-Estimator\\\\DataSet\\\\DataCleaned.csv')\n",
        "x = db.drop(columns=['price'])\n",
        "y = db['price']"
      ]
    },
    {
      "cell_type": "code",
      "execution_count": null,
      "metadata": {},
      "outputs": [],
      "source": [
        "numeric_features = ['rooms', 'bathrooms', 'property_quality','living_area','garden_sqm','terrace_sqm','land_area','distance_from_airport','Skiresort_distance', 'city_median']\n",
        "boolean_features = ['garden', 'terrace', 'land','pool', 'car_box']\n",
        "categorical_features = ['Province', 'City', 'property_type']"
      ]
    },
    {
      "cell_type": "code",
      "execution_count": null,
      "metadata": {
        "id": "cG0jn1R7Ywma"
      },
      "outputs": [],
      "source": [
        "from sklearn.preprocessing import StandardScaler, OneHotEncoder\n",
        "from sklearn.compose import ColumnTransformer\n",
        "\n",
        "preprocessor = ColumnTransformer(transformers=[\n",
        "    ('scaler', StandardScaler(), numeric_features),\n",
        "    ('bool', 'passthrough', boolean_features),\n",
        "    ('cat', OneHotEncoder(handle_unknown='ignore'), categorical_features)\n",
        "], remainder='drop')"
      ]
    },
    {
      "cell_type": "code",
      "execution_count": null,
      "metadata": {
        "id": "rU2cG1TtYwv_"
      },
      "outputs": [],
      "source": [
        "from xgboost import XGBRegressor\n",
        "from sklearn.pipeline import Pipeline\n",
        "pipe = Pipeline(steps=[\n",
        "    ('prep', preprocessor),\n",
        "    ('model', XGBRegressor(\n",
        "        booster='gbtree',\n",
        "        tree_method='hist',\n",
        "        random_state=42,\n",
        "        n_jobs=-1,\n",
        "        objective='reg:squarederror',\n",
        "        eval_metric='rmse'\n",
        "    ))\n",
        "])\n",
        "\n"
      ]
    },
    {
      "cell_type": "code",
      "execution_count": null,
      "metadata": {
        "id": "JkE8FhMJYw7M"
      },
      "outputs": [],
      "source": [
        "from sklearn.model_selection import train_test_split\n",
        "x_train, x_test, y_train, y_test = train_test_split(x, y, test_size=0.2, random_state=42)"
      ]
    },
    {
      "cell_type": "code",
      "execution_count": null,
      "metadata": {
        "id": "qfs4CvYTYxDc"
      },
      "outputs": [],
      "source": [
        "from sklearn.compose import TransformedTargetRegressor\n",
        "from sklearn.model_selection import GridSearchCV\n",
        "param_grid = {\n",
        "    'model__n_estimators': [500],\n",
        "    'model__learning_rate': [0.01, 0.05, 0.1],\n",
        "    'model__max_depth': [4, 6, 8],\n",
        "    'model__min_child_weight': [1, 5, 10],\n",
        "    'model__subsample': [0.7, 0.9, 1.0],\n",
        "    'model__colsample_bytree': [0.7, 0.8, 1.0]\n",
        "}\n",
        "\n",
        "reg = TransformedTargetRegressor(\n",
        "    regressor=pipe,\n",
        "    func=np.log1p,\n",
        "    inverse_func=np.expm1\n",
        ")\n",
        "\n",
        "grid = GridSearchCV(\n",
        "    estimator=reg,\n",
        "    param_grid={k.replace('model__', 'regressor__model__'): v for k, v in param_grid.items()},\n",
        "    scoring='neg_root_mean_squared_error',\n",
        "    cv=3,\n",
        "    n_jobs=-1,\n",
        "    verbose=2\n",
        ")\n"
      ]
    },
    {
      "cell_type": "code",
      "execution_count": null,
      "metadata": {
        "colab": {
          "base_uri": "https://localhost:8080/"
        },
        "id": "srnrzTXEYxN_",
        "outputId": "0b98fe0d-8790-4869-ee1b-4d859e0f6fca"
      },
      "outputs": [],
      "source": [
        "grid.fit(x_train, y_train)\n",
        "best_model = grid.best_estimator_\n",
        "y_pred = best_model.predict(x_test)"
      ]
    },
    {
      "cell_type": "code",
      "execution_count": null,
      "metadata": {
        "colab": {
          "base_uri": "https://localhost:8080/"
        },
        "id": "L6hgqc2EYxWx",
        "outputId": "dacade01-1604-4c21-c0ce-178d9c2a6a1e"
      },
      "outputs": [],
      "source": [
        "np.set_printoptions(precision=2)\n",
        "print(np.concatenate((y_pred.reshape(len(y_pred),1), y_test.values.reshape(len(y_test),1)),1))"
      ]
    },
    {
      "cell_type": "code",
      "execution_count": null,
      "metadata": {
        "colab": {
          "base_uri": "https://localhost:8080/"
        },
        "id": "I9gSzp_EYxfb",
        "outputId": "7d98e59c-5553-4957-cef7-bb48d360a783"
      },
      "outputs": [],
      "source": [
        "comp = pd.DataFrame({'Actual': y_test, 'Predicted': y_pred}, index=y_test.index)\n",
        "comp['Error'] = comp['Predicted'] - comp['Actual']\n",
        "comp['AbsPctError_%'] = (comp['Error'].abs() / comp['Actual'].replace(0, np.nan)) * 100\n",
        "print(comp.head(10))"
      ]
    },
    {
      "cell_type": "code",
      "execution_count": null,
      "metadata": {
        "colab": {
          "base_uri": "https://localhost:8080/"
        },
        "id": "wpGEFJjyYxs3",
        "outputId": "ea9beb4b-9523-4f7d-dbc8-b672936a883f"
      },
      "outputs": [],
      "source": [
        "from sklearn.metrics import r2_score\n",
        "print(f\"R²: {r2_score(y_test, y_pred):.4f}\")"
      ]
    },
    {
      "cell_type": "code",
      "execution_count": null,
      "metadata": {
        "colab": {
          "base_uri": "https://localhost:8080/"
        },
        "id": "6kQtJYOv0aPh",
        "outputId": "161706b0-64f0-483e-8ac7-478d1d51dc98"
      },
      "outputs": [],
      "source": [
        "from sklearn.metrics import r2_score\n",
        "import numpy as np\n",
        "\n",
        "# 1) Baseline (predict train mean on test)\n",
        "y_base = np.full_like(y_test, fill_value=y_train.mean(), dtype=float)\n",
        "print(\"Baseline R² (train mean):\", r2_score(y_test, y_base))\n",
        "\n",
        "# 2) Training-set R² for your best_model\n",
        "y_pred_train = best_model.predict(x_train)\n",
        "print(\"Train R²:\", r2_score(y_train, y_pred_train))\n",
        "print(\"Test  R²:\", r2_score(y_test,  best_model.predict(x_test)))\n"
      ]
    },
    {
      "cell_type": "code",
      "execution_count": 69,
      "metadata": {},
      "outputs": [
        {
          "name": "stdout",
          "output_type": "stream",
          "text": [
            "Model saved successfully!\n"
          ]
        }
      ],
      "source": [
        "\n",
        "joblib.dump(best_model, \"C:\\\\Users\\\\DOR CO\\\\Desktop\\\\Real state ML\\\\Real-Estate-Price-Estimator\\\\API\\\\real_estate_model.pkl\")\n",
        "print(\"Model saved successfully!\")"
      ]
    },
    {
      "cell_type": "code",
      "execution_count": null,
      "metadata": {},
      "outputs": [],
      "source": [
        "city_db = pd.read_csv('C:\\\\Users\\\\DOR CO\\\\Desktop\\\\Real state ML\\\\Real-Estate-Price-Estimator\\\\DataSet\\\\CityProvinceMedians.csv')\n",
        "\n",
        "def city_median_lookup(input):\n",
        "    if input[\"City\"].values[0].lower() in city_db[\"City\"].values and input[\"Province\"].values[0].lower() in city_db[\"Province\"].values:\n",
        "        input[\"city_median\"] = city_db.loc[(city_db['City'].values == input[\"City\"].values[0].lower()) & (city_db['Province'].values == input[\"Province\"].values[0].lower()), 'city_median_price'].values[0]\n",
        "    else:\n",
        "        print(\"Not Found\")\n"
      ]
    },
    {
      "cell_type": "code",
      "execution_count": null,
      "metadata": {},
      "outputs": [
        {
          "name": "stdout",
          "output_type": "stream",
          "text": [
            "City median price: 518000.0\n",
            "Predicted Price: 565915.3\n"
          ]
        }
      ],
      "source": [
        "\n",
        "loaded_model = joblib.load(\"real_estate_model.pkl\")\n",
        "\n",
        "# Example: Predict with new input\n",
        "sample_input = pd.DataFrame([{\n",
        "    \"Province\": \"Milan\",\n",
        "    \"City\": \"Abbiategrasso\",\n",
        "    \"property_quality\": 8,\n",
        "    \"rooms\": 3,\n",
        "    \"living_area\": 120,\n",
        "    \"bathrooms\": 2,\n",
        "    \"garden_sqm\": 30,\n",
        "    \"terrace_sqm\": 15,\n",
        "    \"land_area\": 0,\n",
        "    \"distance_from_airport\": 20,\n",
        "    \"Skiresort_distance\": 150,\n",
        "    \"terrace\": 1,\n",
        "    \"garden\": 1,\n",
        "    \"pool\": 0,\n",
        "    \"car_box\": 1,\n",
        "    \"land\": 0,\n",
        "    \"property_type\": 1\n",
        "}])\n",
        "city_median_lookup(sample_input)\n",
        "predicted_price = loaded_model.predict(sample_input)\n",
        "print(\"Predicted Price:\", predicted_price[0])\n"
      ]
    }
  ],
  "metadata": {
    "colab": {
      "provenance": []
    },
    "kernelspec": {
      "display_name": "Python 3",
      "name": "python3"
    },
    "language_info": {
      "codemirror_mode": {
        "name": "ipython",
        "version": 3
      },
      "file_extension": ".py",
      "mimetype": "text/x-python",
      "name": "python",
      "nbconvert_exporter": "python",
      "pygments_lexer": "ipython3",
      "version": "3.13.0"
    }
  },
  "nbformat": 4,
  "nbformat_minor": 0
}
